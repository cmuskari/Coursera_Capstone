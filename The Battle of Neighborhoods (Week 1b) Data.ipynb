{
    "cells": [
        {
            "cell_type": "markdown",
            "metadata": {
                "collapsed": true
            },
            "source": "# The Battle of Neighborhoods (Week 1)"
        },
        {
            "cell_type": "markdown",
            "metadata": {},
            "source": "## Describe the data that you will be using to solve the problem or execute your idea."
        },
        {
            "cell_type": "markdown",
            "metadata": {},
            "source": "Neighborhood has a total of 5 boroughs and 306 neighborhoods. In order to segement the neighborhoods and explore them, we will essentially need a dataset that contains the 5 boroughs and the neighborhoods that exist in each borough as well as the the latitude and logitude coordinates of each neighborhood.\n\nLuckily, this dataset exists for free on the web: https://geo.nyu.edu/catalog/nyu_2451_34572\n\nFor the below analysis we will get data from wikipedia as given below:\n\nNew York Population\nNew York City Demographics\nCuisine of New York city\nhttps://en.wikipedia.org/wiki/New_York_City\n\nhttps://en.wikipedia.org/wiki/Economy_of_New_York_City\n\nhttps://en.wikipedia.org/wiki/Portal:New_York_City\n\nhttps://en.wikipedia.org/wiki/Cuisine_of_New_York_City\n\nhttps://en.wikipedia.org/wiki/List_of_Michelin_starred_restaurants_in_New_York_City\n\nNew York city geographical coordinates data will be utilized as input for the Foursquare API, that will be leveraged to provision venues information for each neighborhood.We will use the Foursquare API to explore neighborhoods in New York City. "
        }
    ],
    "metadata": {
        "kernelspec": {
            "display_name": "Python 3.6",
            "language": "python",
            "name": "python3"
        },
        "language_info": {
            "codemirror_mode": {
                "name": "ipython",
                "version": 3
            },
            "file_extension": ".py",
            "mimetype": "text/x-python",
            "name": "python",
            "nbconvert_exporter": "python",
            "pygments_lexer": "ipython3",
            "version": "3.6.9"
        }
    },
    "nbformat": 4,
    "nbformat_minor": 1
}