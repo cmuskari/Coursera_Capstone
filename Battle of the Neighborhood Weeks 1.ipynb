{
    "cells": [
        {
            "cell_type": "markdown",
            "metadata": {
                "collapsed": true
            },
            "source": "# The Battle of the Neighborhoods (Week 1)"
        },
        {
            "cell_type": "markdown",
            "metadata": {},
            "source": "### Introduction: \n##### New York City is the most populous city in the United States. With an estimated 2019 population of 8,336,817 distributed over about 302.6 square miles (784 km2), New York City is also the most densely populated major city in the United States.Located at the southern tip of the U.S. state of New York, the city is the center of the New York metropolitan area, the largest metropolitan area in the world by urban landmass.[12] New York City has also been described as the cultural capital of the world by New York's Baruch College. New York City's food culture includes an array of international cuisines influenced by the city's immigrant history. Central and Eastern European immigrants, especially Jewish immigrants from those regions, brought bagels, cheesecake, hot dogs, knishes, and delicatessens (or delis) to the city. Italian immigrants brought New York-style pizza and Italian cuisine into the city, while Jewish immigrants and Irish immigrants brought pastrami and corned beef, respectively. Chinese and other Asian restaurants, sandwich joints, trattorias, diners, and coffeehouses are ubiquitous throughout the city. Some 4,000 mobile food vendors licensed by the city, many immigrant-owned, have made Middle Eastern foods such as falafel and kebabs[500] examples of modern New York street food. The city is home to \"nearly one thousand of the finest and most diverse haute cuisine restaurants in the world\", according to Michelin.\n\n### Problem Description:\n#### IA restaurant is a business which prepares and serves food and drink to customers in return for money, either paid before the meal, after the meal, or with an open account. The City of New York is famous for its excelllent cuisine. It's food culture includes an array of international cuisines influenced by the city's immigrant history.\n\n- Central and Eastern European immigrants, especially Jewish immigrants - bagels, cheesecake, hot dogs, knishes, and delicatessens \n- Italian immigrants - New York-style pizza and Italian cuisine\n- Jewish immigrants and Irish immigrants - pastrami and corned beef\n- Chinese and other Asian restaurants, sandwich joints, trattorias, diners, and coffeehouses are ubiquitous throughout the city\n- mobile food vendors - Some 4,000 licensed by the city\n- Middle Eastern foods such as falafel and kebabs examples of modern New York street food\n\nIt is famous for not just Pizzerias, Cafe's but also for fine dining Michelin starred restaurants. The city is home to \"nearly one thousand of the finest and most diverse haute cuisine restaurants in the world\", according to Michelin.\n\nSo it is evident that to survive in such competitive market it is very important to startegically plan. In the present project various factors will be studied so as to decide on the Location such as :\n\n- New York City Demographics\n- Who are the competitors in that location?\n- Cuisine served / Menu of the competitors\n- Segmentation of the Borough\n- Untapped markets\n- Saturated markets"
        },
        {
            "cell_type": "markdown",
            "metadata": {},
            "source": "### Target Audience:\nTo recommend the correct location, Data Solutions has appointed me to lead of the Data Science team. The objective is to locate and recommend to the management which neighborhood of Newyork city will be best choice to start a restaurant. The Management also expects to understand the rationale of the recommendations made. This would interest anyone who wants to start a new restaurant in Newyork city."
        },
        {
            "cell_type": "markdown",
            "metadata": {},
            "source": "### Success Criteria:\nThe success criteria of the project will be a good recommendation of borough/Neighborhood choice to Data Solutions based on lack of such restaurants in that location and nearest suppliers of ingredients."
        },
        {
            "cell_type": "markdown",
            "metadata": {},
            "source": "## Describe the data that you will be using to solve the problem or execute your idea."
        },
        {
            "cell_type": "markdown",
            "metadata": {},
            "source": "Neighborhood has a total of 5 boroughs and 306 neighborhoods. In order to segement the neighborhoods and explore them, we will essentially need a dataset that contains the 5 boroughs and the neighborhoods that exist in each borough as well as the the latitude and logitude coordinates of each neighborhood.\n\nLuckily, this dataset exists for free on the web: https://geo.nyu.edu/catalog/nyu_2451_34572\n\nFor the below analysis we will get data from wikipedia as given below:\n\nNew York Population\nNew York City Demographics\nCuisine of New York city\nhttps://en.wikipedia.org/wiki/New_York_City\n\nhttps://en.wikipedia.org/wiki/Economy_of_New_York_City\n\nhttps://en.wikipedia.org/wiki/Portal:New_York_City\n\nhttps://en.wikipedia.org/wiki/Cuisine_of_New_York_City\n\nhttps://en.wikipedia.org/wiki/List_of_Michelin_starred_restaurants_in_New_York_City\n\nNew York city geographical coordinates data will be utilized as input for the Foursquare API, that will be leveraged to provision venues information for each neighborhood.We will use the Foursquare API to explore neighborhoods in New York City. "
        }
    ],
    "metadata": {
        "kernelspec": {
            "display_name": "Python 3.6",
            "language": "python",
            "name": "python3"
        },
        "language_info": {
            "codemirror_mode": {
                "name": "ipython",
                "version": 3
            },
            "file_extension": ".py",
            "mimetype": "text/x-python",
            "name": "python",
            "nbconvert_exporter": "python",
            "pygments_lexer": "ipython3",
            "version": "3.6.9"
        }
    },
    "nbformat": 4,
    "nbformat_minor": 1
}